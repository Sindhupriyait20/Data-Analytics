{
  "nbformat": 4,
  "nbformat_minor": 0,
  "metadata": {
    "colab": {
      "provenance": []
    },
    "kernelspec": {
      "name": "python3",
      "display_name": "Python 3"
    },
    "language_info": {
      "name": "python"
    }
  },
  "cells": [
    {
      "cell_type": "markdown",
      "source": [
        "#Assignments: Data types and Structures"
      ],
      "metadata": {
        "id": "J45yptg34t9X"
      }
    },
    {
      "cell_type": "markdown",
      "source": [
        "1. What are data structures, and why are they important?\n",
        "Data structures are ways to organize and store data efficiently for easy access and modification. They are important because they optimize operations like searching, sorting, and modifying data. Common data structures include arrays, lists, stacks, queues, dictionaries, and trees."
      ],
      "metadata": {
        "id": "Eq5JCEjPf1Nn"
      }
    },
    {
      "cell_type": "markdown",
      "source": [
        "2. Explain the difference between mutable and immutable data types with examples.\n",
        "Mutable data types can be changed after creation.\n",
        "Immutable data types cannot be changed after creation."
      ],
      "metadata": {
        "id": "lsn0ozXMgxI6"
      }
    },
    {
      "cell_type": "markdown",
      "source": [
        "3. What are the main differences between lists and tuples in Python?\n",
        "Feature\t    List\t                      Tuple\n",
        "Mutability\tMutable\t                    Immutable\n",
        "Performance\tSlower\t                    Faster (due to immutability)\n",
        "Syntax\t    [] (square brackets)\t      () (parentheses)\n",
        "Use Case\tWhen data needs modification\tWhen data should remain constant"
      ],
      "metadata": {
        "id": "K4VY-jEMg53v"
      }
    },
    {
      "cell_type": "markdown",
      "source": [
        "4. Describe how dictionaries store data.\n",
        "Dictionaries store data in key-value pairs using a hash table. Each key maps to a specific value, allowing for fast lookups."
      ],
      "metadata": {
        "id": "CI1PRDqchRbC"
      }
    },
    {
      "cell_type": "markdown",
      "source": [
        "5. Why might you use a set instead of a list in Python?\n",
        "Sets do not allow duplicate values.\n",
        "Faster membership checking (in operator) than lists.\n",
        "Unordered (not indexed)."
      ],
      "metadata": {
        "id": "Yi8a34AhhXPa"
      }
    },
    {
      "cell_type": "markdown",
      "source": [
        "6. What is a string in Python, and how is it different from a list?\n",
        "String: A sequence of characters, immutable.\n",
        "List: A collection of elements, mutable."
      ],
      "metadata": {
        "id": "Dqgv3Hblhan3"
      }
    },
    {
      "cell_type": "markdown",
      "source": [
        "7. How do tuples ensure data integrity in Python?\n",
        "Tuples cannot be modified after creation, preventing accidental changes.\n",
        "Used in hashable data structures like dictionary keys."
      ],
      "metadata": {
        "id": "ry-4KILqhfAn"
      }
    },
    {
      "cell_type": "markdown",
      "source": [
        "8. What is a hash table, and how does it relate to dictionaries in Python?\n",
        "A hash table stores data using key-value pairs where keys are hashed to determine their storage location.\n",
        "Python dictionaries use hash tables for fast lookups."
      ],
      "metadata": {
        "id": "6GIycwPmhikK"
      }
    },
    {
      "cell_type": "markdown",
      "source": [
        "9. Can lists contain different data types in Python?\n",
        "Yes, Python lists can contain multiple data types."
      ],
      "metadata": {
        "id": "AT0neucUhleK"
      }
    },
    {
      "cell_type": "markdown",
      "source": [
        "10. Explain why strings are immutable in Python.\n",
        "Strings are immutable to optimize memory usage and ensure security in operations like hashing."
      ],
      "metadata": {
        "id": "FGdnITZGhpzM"
      }
    },
    {
      "cell_type": "markdown",
      "source": [
        "11. What advantages do dictionaries offer over lists for certain tasks?\n",
        "Fast lookups (O(1)) vs. list search (O(n)).\n",
        "Key-value mapping for structured data."
      ],
      "metadata": {
        "id": "qjMIB8lohs66"
      }
    },
    {
      "cell_type": "markdown",
      "source": [
        "12. Describe a scenario where using a tuple would be preferable over a list.\n",
        "When data should not change (e.g., coordinates, database keys).\n",
        "Tuple as a dictionary key (lists cannot be dictionary keys).\n"
      ],
      "metadata": {
        "id": "g6qBQm3bhz6l"
      }
    },
    {
      "cell_type": "markdown",
      "source": [
        "13. How do sets handle duplicate values in Python?\n",
        "Sets automatically remove duplicates."
      ],
      "metadata": {
        "id": "83sxTqiQh3uI"
      }
    },
    {
      "cell_type": "markdown",
      "source": [
        "14. How does the “in” keyword work differently for lists and dictionaries?\n",
        "List: Checks if an item exists (O(n)).\n",
        "Dictionary: Checks for keys, not values (O(1))."
      ],
      "metadata": {
        "id": "YIfonuehiApO"
      }
    },
    {
      "cell_type": "markdown",
      "source": [
        "15. Can you modify the elements of a tuple? Explain why or why not.\n",
        "No, tuples are immutable."
      ],
      "metadata": {
        "id": "TX_JZBagiFzG"
      }
    },
    {
      "cell_type": "markdown",
      "source": [
        "16. What is a nested dictionary, and give an example of its use case?\n",
        "A dictionary inside another dictionary.\n",
        "Used for storing hierarchical data."
      ],
      "metadata": {
        "id": "st_SoEbjiJje"
      }
    },
    {
      "cell_type": "markdown",
      "source": [
        "17. Describe the time complexity of accessing elements in a dictionary.\n",
        "Average case: O(1) (constant time).\n",
        "Worst case: O(n) (if hash collisions occur).\n"
      ],
      "metadata": {
        "id": "291SgH3qiOCw"
      }
    },
    {
      "cell_type": "markdown",
      "source": [
        "18. In what situations are lists preferred over dictionaries?\n",
        "When order matters.\n",
        "When data needs frequent modification.\n",
        "Example: Maintaining a queue of tasks."
      ],
      "metadata": {
        "id": "ffzsqihFhxZn"
      }
    },
    {
      "cell_type": "markdown",
      "source": [
        "19. Why are dictionaries considered unordered, and how does that affect data retrieval?\n",
        "Prior to Python 3.7, dictionaries did not maintain insertion order.\n",
        "From Python 3.7+, dictionaries preserve order, but retrieval is based on keys.\n"
      ],
      "metadata": {
        "id": "j808TuU3ieKk"
      }
    },
    {
      "cell_type": "markdown",
      "source": [
        "20. Explain the difference between a list and a dictionary in terms of data retrieval.\n",
        "Lists retrieve items by index (O(1)).\n",
        "Dictionaries retrieve values by key (O(1))."
      ],
      "metadata": {
        "id": "PIwLAkihjQXz"
      }
    },
    {
      "cell_type": "markdown",
      "source": [
        "# Practical questions\n",
        "1. Write a code to create a string with your name and print it"
      ],
      "metadata": {
        "id": "bHLkx-7GjTVG"
      }
    },
    {
      "cell_type": "code",
      "source": [
        "a='sindhupriya'\n",
        "b=input(\"Enter the string: \")\n",
        "print(b+\" \" +a)"
      ],
      "metadata": {
        "colab": {
          "base_uri": "https://localhost:8080/"
        },
        "id": "QuWPvElmj3Qd",
        "outputId": "b522d7e2-b322-4a2f-d388-b4f61e15443d"
      },
      "execution_count": 4,
      "outputs": [
        {
          "output_type": "stream",
          "name": "stdout",
          "text": [
            "Enter the string: sindhupriya\n",
            "sindhupriya sindhupriya\n"
          ]
        }
      ]
    },
    {
      "cell_type": "markdown",
      "source": [
        "2. Write a code to find the length of the string \"Hello World\""
      ],
      "metadata": {
        "id": "Qk4GsDvwkXst"
      }
    },
    {
      "cell_type": "code",
      "source": [
        "a= len(\"Hello World\")\n",
        "print(a)"
      ],
      "metadata": {
        "colab": {
          "base_uri": "https://localhost:8080/"
        },
        "id": "u_snPaWTkczn",
        "outputId": "146019ce-a71a-4f35-ec06-a52f147913bd"
      },
      "execution_count": 8,
      "outputs": [
        {
          "output_type": "stream",
          "name": "stdout",
          "text": [
            "11\n"
          ]
        }
      ]
    },
    {
      "cell_type": "markdown",
      "source": [
        "3. Write a code to slice the first 3 characters from the string \"Python Programming\""
      ],
      "metadata": {
        "id": "2EzqRHZ7kwGu"
      }
    },
    {
      "cell_type": "code",
      "source": [
        "a = \"Python Programming\"\n",
        "print(a[:3])"
      ],
      "metadata": {
        "colab": {
          "base_uri": "https://localhost:8080/"
        },
        "id": "fajdCVyAk1yz",
        "outputId": "cf3e8dce-3214-411d-833b-fe9de5672f24"
      },
      "execution_count": 10,
      "outputs": [
        {
          "output_type": "stream",
          "name": "stdout",
          "text": [
            "Pyt\n"
          ]
        }
      ]
    },
    {
      "cell_type": "markdown",
      "source": [
        "4.Write a code to convert the string \"hello\" to uppercase"
      ],
      "metadata": {
        "id": "_3iN47jilNbX"
      }
    },
    {
      "cell_type": "code",
      "source": [
        "b=\"hello\"\n",
        "c=b.upper()\n",
        "print(c)\n"
      ],
      "metadata": {
        "colab": {
          "base_uri": "https://localhost:8080/"
        },
        "id": "xMpLqBz6lRFz",
        "outputId": "5a717905-a655-48cb-81ad-da1f178fa56d"
      },
      "execution_count": 14,
      "outputs": [
        {
          "output_type": "stream",
          "name": "stdout",
          "text": [
            "HELLO\n"
          ]
        }
      ]
    },
    {
      "cell_type": "markdown",
      "source": [
        "5.Write a code to replace the word \"apple\" with \"orange\" in the string \"I like apple\""
      ],
      "metadata": {
        "id": "bU6bIF6Tlrla"
      }
    },
    {
      "cell_type": "code",
      "source": [
        "string=\"I like apple\"\n",
        "d=string.replace(\"apple\",\"orange\")\n",
        "print(d)"
      ],
      "metadata": {
        "colab": {
          "base_uri": "https://localhost:8080/"
        },
        "id": "rv3uTE27lrJd",
        "outputId": "d35d2b64-3fd1-4544-9638-38521748e765"
      },
      "execution_count": 17,
      "outputs": [
        {
          "output_type": "stream",
          "name": "stdout",
          "text": [
            "I like orange\n"
          ]
        }
      ]
    },
    {
      "cell_type": "markdown",
      "source": [
        "6.Write a code to create a list with numbers 1 to 5 and print it."
      ],
      "metadata": {
        "id": "nvoBizXQmIkk"
      }
    },
    {
      "cell_type": "code",
      "source": [
        "listc =[1,2,3,4,5]\n",
        "print(listc)"
      ],
      "metadata": {
        "colab": {
          "base_uri": "https://localhost:8080/"
        },
        "id": "wgzaKxf0mODg",
        "outputId": "2f9d0431-ac08-47cd-a828-cb568f89e4a2"
      },
      "execution_count": 18,
      "outputs": [
        {
          "output_type": "stream",
          "name": "stdout",
          "text": [
            "[1, 2, 3, 4, 5]\n"
          ]
        }
      ]
    },
    {
      "cell_type": "markdown",
      "source": [
        "7.Write a code to append the number 10 to the list [1, 2, 3, 4]"
      ],
      "metadata": {
        "id": "YqjRFTL6mdBs"
      }
    },
    {
      "cell_type": "code",
      "source": [
        "listv =[1,2,3,4]\n",
        "listv.append(10)\n",
        "print(listv)"
      ],
      "metadata": {
        "colab": {
          "base_uri": "https://localhost:8080/"
        },
        "id": "L5Hi0Q9amgyd",
        "outputId": "cd8d3a9e-ab27-497d-e32e-0a08db518b0b"
      },
      "execution_count": 19,
      "outputs": [
        {
          "output_type": "stream",
          "name": "stdout",
          "text": [
            "[1, 2, 3, 4, 10]\n"
          ]
        }
      ]
    },
    {
      "cell_type": "markdown",
      "source": [
        "8.Write a code to remove the number 3 from the list [1, 2, 3, 4, 5]."
      ],
      "metadata": {
        "id": "kAWPPtlrmm6d"
      }
    },
    {
      "cell_type": "code",
      "source": [
        "o=[1,2,3,4,5]\n",
        "o.remove(3)\n",
        "print(o)"
      ],
      "metadata": {
        "colab": {
          "base_uri": "https://localhost:8080/"
        },
        "id": "vuPnBEiomrLb",
        "outputId": "f1b57924-a9e5-411b-f2a6-d69c51555a62"
      },
      "execution_count": 22,
      "outputs": [
        {
          "output_type": "stream",
          "name": "stdout",
          "text": [
            "[1, 2, 4, 5]\n"
          ]
        }
      ]
    },
    {
      "cell_type": "markdown",
      "source": [
        "9.Write a code to access the second element in the list ['a', 'b', 'c', 'd']"
      ],
      "metadata": {
        "id": "QRRoGVYmnGCe"
      }
    },
    {
      "cell_type": "code",
      "source": [
        "p=['a','b','c','d']\n",
        "print(p[1])"
      ],
      "metadata": {
        "colab": {
          "base_uri": "https://localhost:8080/"
        },
        "id": "2Xm5hiXpnK19",
        "outputId": "9d5ae31d-1fee-444b-a11c-e5a3e6a95081"
      },
      "execution_count": 23,
      "outputs": [
        {
          "output_type": "stream",
          "name": "stdout",
          "text": [
            "b\n"
          ]
        }
      ]
    },
    {
      "cell_type": "markdown",
      "source": [
        "10.Write a code to reverse the list [10, 20, 30, 40, 50]."
      ],
      "metadata": {
        "id": "PbDCFycanYlq"
      }
    },
    {
      "cell_type": "code",
      "source": [
        "rev=[10,20,30,40,50]\n",
        "print(rev[::-1])"
      ],
      "metadata": {
        "colab": {
          "base_uri": "https://localhost:8080/"
        },
        "id": "e22VDBesnglL",
        "outputId": "acd48d65-9d93-45d4-fc64-441d04f98155"
      },
      "execution_count": 25,
      "outputs": [
        {
          "output_type": "stream",
          "name": "stdout",
          "text": [
            "[50, 40, 30, 20, 10]\n"
          ]
        }
      ]
    },
    {
      "cell_type": "markdown",
      "source": [
        "11.Write a code to create a tuple with the elements 100, 200, 300 and print it."
      ],
      "metadata": {
        "id": "TUkP2GT9nsOv"
      }
    },
    {
      "cell_type": "code",
      "source": [
        "np=(100,200,300)\n",
        "print(np)"
      ],
      "metadata": {
        "colab": {
          "base_uri": "https://localhost:8080/"
        },
        "id": "A1JsK1hV9aWZ",
        "outputId": "ef549ebf-c817-409c-bd87-e6b80523fbf4"
      },
      "execution_count": 3,
      "outputs": [
        {
          "output_type": "stream",
          "name": "stdout",
          "text": [
            "(100, 200, 300)\n"
          ]
        }
      ]
    },
    {
      "cell_type": "markdown",
      "source": [
        "12.Write a code to access the second-to-last element of the tuple ('red', 'green', 'blue', 'yellow')."
      ],
      "metadata": {
        "id": "9xnMiBQD-ZkW"
      }
    },
    {
      "cell_type": "code",
      "source": [
        "pn=('red','green','blue','yellow')\n",
        "print(pn[1])"
      ],
      "metadata": {
        "colab": {
          "base_uri": "https://localhost:8080/"
        },
        "id": "75lU0IuS-fPn",
        "outputId": "2dfb9714-b9d2-435a-d2c5-253678f342d9"
      },
      "execution_count": 5,
      "outputs": [
        {
          "output_type": "stream",
          "name": "stdout",
          "text": [
            "green\n"
          ]
        }
      ]
    },
    {
      "cell_type": "markdown",
      "source": [
        "13.Write a code to find the minimum number in the tuple (10, 20, 5, 15)."
      ],
      "metadata": {
        "id": "clJ8hDyp-1CD"
      }
    },
    {
      "cell_type": "code",
      "source": [
        "pl=(12,20,5,15)\n",
        "print(min(pl))"
      ],
      "metadata": {
        "colab": {
          "base_uri": "https://localhost:8080/"
        },
        "id": "ymkGGv2g-4rd",
        "outputId": "aa6bbe23-e26a-40e8-d1d7-c5e509785a95"
      },
      "execution_count": 6,
      "outputs": [
        {
          "output_type": "stream",
          "name": "stdout",
          "text": [
            "5\n"
          ]
        }
      ]
    },
    {
      "cell_type": "markdown",
      "source": [
        "14.Write a code to find the index of the element \"cat\" in the tuple ('dog', 'cat', 'rabbit')."
      ],
      "metadata": {
        "id": "y8AIhfoR_A9r"
      }
    },
    {
      "cell_type": "code",
      "source": [
        "lp=('dog','cat','rabbit')\n",
        "print(lp.index('cat'))"
      ],
      "metadata": {
        "colab": {
          "base_uri": "https://localhost:8080/"
        },
        "id": "OY3HThMi_E4Z",
        "outputId": "f72ae428-382e-429e-f628-6574dc05a72c"
      },
      "execution_count": 7,
      "outputs": [
        {
          "output_type": "stream",
          "name": "stdout",
          "text": [
            "1\n"
          ]
        }
      ]
    },
    {
      "cell_type": "markdown",
      "source": [
        "15.Write a code to create a tuple containing three different fruits and check if \"kiwi\" is in it."
      ],
      "metadata": {
        "id": "eoD3v5muAbm9"
      }
    },
    {
      "cell_type": "code",
      "source": [
        "po=('apple','kiwi','orange')\n",
        "for i in po:\n",
        "  if i=='kiwi':\n",
        "    print(\"Yes, Kiwi is there\")"
      ],
      "metadata": {
        "colab": {
          "base_uri": "https://localhost:8080/"
        },
        "id": "W4QhNJ3NAjmB",
        "outputId": "e3a0e286-40fb-4de3-8563-727f19f2b945"
      },
      "execution_count": 9,
      "outputs": [
        {
          "output_type": "stream",
          "name": "stdout",
          "text": [
            "Yes, Kiwi is there\n"
          ]
        }
      ]
    },
    {
      "cell_type": "markdown",
      "source": [
        "16.Write a code to create a set with the elements 'a', 'b', 'c' and print it."
      ],
      "metadata": {
        "id": "cKWvVJTwBL9P"
      }
    },
    {
      "cell_type": "code",
      "source": [
        "setf={'a','b','c'}\n",
        "print(setf)"
      ],
      "metadata": {
        "colab": {
          "base_uri": "https://localhost:8080/"
        },
        "id": "aMDAnpycBWHR",
        "outputId": "38c335dd-069e-4e90-fa72-3cd184045292"
      },
      "execution_count": 12,
      "outputs": [
        {
          "output_type": "stream",
          "name": "stdout",
          "text": [
            "{'a', 'b', 'c'}\n"
          ]
        },
        {
          "output_type": "execute_result",
          "data": {
            "text/plain": [
              "set"
            ]
          },
          "metadata": {},
          "execution_count": 12
        }
      ]
    },
    {
      "cell_type": "markdown",
      "source": [
        "17.Write a code to clear all elements from the set {1, 2, 3, 4, 5}."
      ],
      "metadata": {
        "id": "0PjLwEd-BnDW"
      }
    },
    {
      "cell_type": "code",
      "source": [
        "sete={1,2,3,4,5}\n",
        "sete.clear()\n",
        "print(sete)"
      ],
      "metadata": {
        "colab": {
          "base_uri": "https://localhost:8080/"
        },
        "id": "INGxFwlPBxKn",
        "outputId": "fb83ae00-4985-4361-9cd0-1b2f0a16f475"
      },
      "execution_count": 13,
      "outputs": [
        {
          "output_type": "stream",
          "name": "stdout",
          "text": [
            "set()\n"
          ]
        }
      ]
    },
    {
      "cell_type": "markdown",
      "source": [
        "18.Write a code to remove the element 4 from the set {1, 2, 3, 4}."
      ],
      "metadata": {
        "id": "mzVI0v8QCETs"
      }
    },
    {
      "cell_type": "code",
      "source": [
        "ol={1,2,3,4}\n",
        "ol.remove(4)\n",
        "print(ol)"
      ],
      "metadata": {
        "colab": {
          "base_uri": "https://localhost:8080/"
        },
        "id": "UFZD71IWCN-S",
        "outputId": "e106df86-1d4b-448c-f177-81292029c7c0"
      },
      "execution_count": 14,
      "outputs": [
        {
          "output_type": "stream",
          "name": "stdout",
          "text": [
            "{1, 2, 3}\n"
          ]
        }
      ]
    },
    {
      "cell_type": "markdown",
      "source": [
        "19. Write a code to find the union of two sets {1, 2, 3} and {3, 4, 5}."
      ],
      "metadata": {
        "id": "T2Va-VmVCm16"
      }
    },
    {
      "cell_type": "code",
      "source": [
        "set1={1,2,3}\n",
        "set2={3,4,5}\n",
        "set3=set1.union(set2)\n",
        "print(set3)"
      ],
      "metadata": {
        "colab": {
          "base_uri": "https://localhost:8080/"
        },
        "id": "W-GQFxdoC6uB",
        "outputId": "8d2a9061-df9b-44b6-cd54-86fc7fe6a41c"
      },
      "execution_count": 15,
      "outputs": [
        {
          "output_type": "stream",
          "name": "stdout",
          "text": [
            "{1, 2, 3, 4, 5}\n"
          ]
        }
      ]
    },
    {
      "cell_type": "markdown",
      "source": [
        "20. Write a code to find the intersection of two sets {1, 2, 3} and {2, 3, 4}."
      ],
      "metadata": {
        "id": "pepMvQ4pDoFu"
      }
    },
    {
      "cell_type": "code",
      "source": [
        "set4=set1.intersection(set2)\n",
        "print(set4)"
      ],
      "metadata": {
        "colab": {
          "base_uri": "https://localhost:8080/"
        },
        "id": "fVFc_ceCDrj_",
        "outputId": "53b64f0e-d6ca-4763-be3f-f4f4659e88cc"
      },
      "execution_count": 16,
      "outputs": [
        {
          "output_type": "stream",
          "name": "stdout",
          "text": [
            "{3}\n"
          ]
        }
      ]
    },
    {
      "cell_type": "markdown",
      "source": [
        "21.Write a code to create a dictionary with the keys \"name\", \"age\", and \"city\", and print it."
      ],
      "metadata": {
        "id": "e6lwaoX_EGKm"
      }
    },
    {
      "cell_type": "code",
      "source": [
        "dictk={'name:Sindhu','age:20','city:bangalore'}\n",
        "print(dictk)"
      ],
      "metadata": {
        "colab": {
          "base_uri": "https://localhost:8080/"
        },
        "id": "3sgdy-UOEJ4F",
        "outputId": "b9125929-b048-4c08-e318-b8b13b9c4126"
      },
      "execution_count": 17,
      "outputs": [
        {
          "output_type": "stream",
          "name": "stdout",
          "text": [
            "{'city:bangalore', 'age:20', 'name:Sindhu'}\n"
          ]
        }
      ]
    },
    {
      "cell_type": "markdown",
      "source": [
        "22. Write a code to add a new key-value pair \"country\": \"USA\" to the dictionary {'name': 'John', 'age': 25}."
      ],
      "metadata": {
        "id": "ITSdDi09Eld_"
      }
    },
    {
      "cell_type": "code",
      "source": [
        "dictionary={'name':'John','age':25}\n",
        "dictionary['country']='USA'\n",
        "print(dictionary)"
      ],
      "metadata": {
        "colab": {
          "base_uri": "https://localhost:8080/"
        },
        "id": "VgLS0gP5FSm_",
        "outputId": "738c3c30-f1dc-4a40-887b-3e3d4f87a057"
      },
      "execution_count": 18,
      "outputs": [
        {
          "output_type": "stream",
          "name": "stdout",
          "text": [
            "{'name': 'John', 'age': 25, 'country': 'USA'}\n"
          ]
        }
      ]
    },
    {
      "cell_type": "markdown",
      "source": [
        "23. Write a code to access the value associated with the key \"name\" in the dictionary {'name': 'Alice', 'age': 30}."
      ],
      "metadata": {
        "id": "5ci-SB8zErCf"
      }
    },
    {
      "cell_type": "code",
      "source": [
        "rp={'name':'Alice',\"age\":30}\n",
        "print(rp['name'])"
      ],
      "metadata": {
        "colab": {
          "base_uri": "https://localhost:8080/"
        },
        "id": "JGDu1oQNFf_L",
        "outputId": "9a97eaec-3306-4b98-d9e9-eb41d9cd25c7"
      },
      "execution_count": 19,
      "outputs": [
        {
          "output_type": "stream",
          "name": "stdout",
          "text": [
            "Alice\n"
          ]
        }
      ]
    },
    {
      "cell_type": "markdown",
      "source": [
        "24.Write a code to remove the key \"age\" from the dictionary {'name': 'Bob', 'age': 22, 'city': 'New York'}."
      ],
      "metadata": {
        "id": "79NnvxgMFx9V"
      }
    },
    {
      "cell_type": "code",
      "source": [
        "lo={'name':'Bob','age':22,'city':'New York'}\n",
        "lo.pop('age')\n",
        "print(lo)"
      ],
      "metadata": {
        "colab": {
          "base_uri": "https://localhost:8080/"
        },
        "id": "SmJF3Ik2F35v",
        "outputId": "c21404f9-fd33-4790-ed99-7d5cdb9cc6b6"
      },
      "execution_count": 20,
      "outputs": [
        {
          "output_type": "stream",
          "name": "stdout",
          "text": [
            "{'name': 'Bob', 'city': 'New York'}\n"
          ]
        }
      ]
    },
    {
      "cell_type": "markdown",
      "source": [
        "25.Write a code to check if the key \"city\" exists in the dictionary {'name': 'Alice', 'city': 'Paris'}."
      ],
      "metadata": {
        "id": "xjcscMU-GAF_"
      }
    },
    {
      "cell_type": "code",
      "source": [
        "op={'name':\"Alice\",\"city\":\"Paris\"}\n",
        "if 'city' in op:\n",
        "  print(\"Yes, city exists\")"
      ],
      "metadata": {
        "colab": {
          "base_uri": "https://localhost:8080/"
        },
        "id": "FQuTgOYTGEOE",
        "outputId": "baceee54-f55c-4737-a440-b60854c17ef9"
      },
      "execution_count": 21,
      "outputs": [
        {
          "output_type": "stream",
          "name": "stdout",
          "text": [
            "Yes, city exists\n"
          ]
        }
      ]
    },
    {
      "cell_type": "markdown",
      "source": [
        "26.Write a code to create a list, a tuple, and a dictionary, and print them all."
      ],
      "metadata": {
        "id": "Fty_KUyXGNem"
      }
    },
    {
      "cell_type": "code",
      "source": [
        "cv=[1,2,3,4,5]\n",
        "print(f\"list is {cv}\")\n",
        "bv=('ab','bc','cd')\n",
        "print(f\"tuple is {bv}\")\n",
        "nk={'name':\"Alice\",'age':56}\n",
        "print(f\"dictionary is {nk}\")"
      ],
      "metadata": {
        "colab": {
          "base_uri": "https://localhost:8080/"
        },
        "id": "mQvSWnuRGRrG",
        "outputId": "5189b6f8-7eb5-486f-ba1d-456558565ea4"
      },
      "execution_count": 25,
      "outputs": [
        {
          "output_type": "stream",
          "name": "stdout",
          "text": [
            "list is [1, 2, 3, 4, 5]\n",
            "tuple is ('ab', 'bc', 'cd')\n",
            "dictionary is {'name': 'Alice', 'age': 56}\n"
          ]
        }
      ]
    },
    {
      "cell_type": "markdown",
      "source": [
        "27.Write a code to create a list of 5 random numbers between 1 and 100, sort it in ascending order, and print the\n",
        "result.(replaced)"
      ],
      "metadata": {
        "id": "QKg0IFOHHRBD"
      }
    },
    {
      "cell_type": "code",
      "source": [
        "lo=[45,34,32,12,90]\n",
        "print(sorted(lo))"
      ],
      "metadata": {
        "colab": {
          "base_uri": "https://localhost:8080/"
        },
        "id": "LbX0W8cZHV9-",
        "outputId": "2747bee3-0365-4a37-9015-c1c87139aab4"
      },
      "execution_count": 26,
      "outputs": [
        {
          "output_type": "stream",
          "name": "stdout",
          "text": [
            "[12, 32, 34, 45, 90]\n"
          ]
        }
      ]
    },
    {
      "cell_type": "markdown",
      "source": [
        "28.Write a code to create a list with strings and print the element at the third index."
      ],
      "metadata": {
        "id": "GtVy3L1IJeq8"
      }
    },
    {
      "cell_type": "code",
      "source": [
        "ko=['ai','bi','ko','ji','ty']\n",
        "print(ko[3])"
      ],
      "metadata": {
        "colab": {
          "base_uri": "https://localhost:8080/"
        },
        "id": "f-oBseDAJjrI",
        "outputId": "c54abf98-271e-43dd-d122-59185a66a5ca"
      },
      "execution_count": 27,
      "outputs": [
        {
          "output_type": "stream",
          "name": "stdout",
          "text": [
            "ji\n"
          ]
        }
      ]
    },
    {
      "cell_type": "markdown",
      "source": [
        "29.Write a code to combine two dictionaries into one and print the result."
      ],
      "metadata": {
        "id": "yIB3kzDLKbJy"
      }
    },
    {
      "cell_type": "code",
      "source": [
        "dict1 = {'a': 1, 'b': 2}\n",
        "dict2 = {'c': 3, 'd': 4}\n",
        "\n",
        "combined_dict = dict1 | dict2\n",
        "print(combined_dict)\n"
      ],
      "metadata": {
        "colab": {
          "base_uri": "https://localhost:8080/"
        },
        "id": "PmmfBuqOKsKi",
        "outputId": "997fd268-2dc4-48da-ad11-089ccdd162d3"
      },
      "execution_count": 29,
      "outputs": [
        {
          "output_type": "stream",
          "name": "stdout",
          "text": [
            "{'a': 1, 'b': 2, 'c': 3, 'd': 4}\n"
          ]
        }
      ]
    },
    {
      "cell_type": "markdown",
      "source": [
        "30.Write a code to convert a list of strings into a set."
      ],
      "metadata": {
        "id": "nQwqLtRMLQgB"
      }
    },
    {
      "cell_type": "code",
      "source": [
        "lo=['sindhu','priya','alice','john']\n",
        "print(set(lo))"
      ],
      "metadata": {
        "colab": {
          "base_uri": "https://localhost:8080/"
        },
        "id": "Rc43QtpdLMga",
        "outputId": "f8679eee-1c2d-40c2-fdb0-cefbe1eced3b"
      },
      "execution_count": 30,
      "outputs": [
        {
          "output_type": "stream",
          "name": "stdout",
          "text": [
            "{'priya', 'sindhu', 'john', 'alice'}\n"
          ]
        }
      ]
    }
  ]
}