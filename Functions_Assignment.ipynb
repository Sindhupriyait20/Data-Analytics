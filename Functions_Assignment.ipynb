{
  "nbformat": 4,
  "nbformat_minor": 0,
  "metadata": {
    "colab": {
      "provenance": []
    },
    "kernelspec": {
      "name": "python3",
      "display_name": "Python 3"
    },
    "language_info": {
      "name": "python"
    }
  },
  "cells": [
    {
      "cell_type": "markdown",
      "source": [
        "#FUNCTIONS"
      ],
      "metadata": {
        "id": "tKiJsUnYeQaP"
      }
    },
    {
      "cell_type": "markdown",
      "source": [
        "1. What is the difference between a function and a method in Python?\n",
        "\n",
        "In Python, the key difference between a function and a method lies in how they are used and what they are associated with. A function is a block of reusable code that performs a specific task and is called independently. For example, def greet(name): return \"Hello \" + name defines a function, and it can be called like greet(\"Alice\") to return \"Hello Alice\". On the other hand, a method is a function that is associated with an object and is called on that object. For instance, in the string \"alice\".upper(), upper() is a method because it is invoked on a string object and transforms it to \"ALICE\". In summary, while both functions and methods perform actions, methods are tied to objects, whereas functions operate independently\n",
        "EX. for function:\n",
        "def greet(name):\n",
        "    return \"Hello \" + name\n",
        "\n",
        "print(greet(\"Alice\"))\n",
        "Ex. for method:\n",
        "name = \"alice\"\n",
        "print(name.upper())"
      ],
      "metadata": {
        "id": "y3JQ7qvNeW2j"
      }
    },
    {
      "cell_type": "markdown",
      "source": [
        "2. Explain the concept of function arguments and parameters in Python.\n",
        "\n",
        "In Python, parameters and arguments are related but different concepts used in functions. Parameters are the names listed in a function’s definition, acting as placeholders for the values the function will receive. Arguments are the actual values passed to the function when it is called. For example, in the function definition def add(a, b): return a + b, a and b are parameters. When you call the function using add(3, 5), the values 3 and 5 are the arguments. Python supports different types of arguments including positional arguments, keyword arguments, default arguments, and variable-length arguments (like *args and **kwargs). This flexibility allows functions to be reused with different inputs, making code more modular and maintainable."
      ],
      "metadata": {
        "id": "iR4ae6gufizP"
      }
    },
    {
      "cell_type": "markdown",
      "source": [
        "3. What are the different ways to define and call a function in Python?\n",
        "\n",
        "Functions can be defined and called in several ways, allowing flexibility in how they are structured and used. The most common way to define a function is using the def keyword, followed by the function name and parameters. For example, def greet(name): return \"Hello \" + name defines a simple function. You can call it using greet(\"Alice\"), where \"Alice\" is the argument.\n",
        "\n",
        "You can also define functions with default arguments, such as def greet(name=\"Guest\"): return \"Hello \" + name. This allows the function to be called with or without an argument: greet() returns \"Hello Guest\" and greet(\"Bob\") returns \"Hello Bob\".\n",
        "\n",
        "Another method is using lambda functions, which are anonymous functions defined in a single line, often used for short tasks. For example, add = lambda x, y: x + y defines a lambda function that can be called with add(2, 3) to return 5."
      ],
      "metadata": {
        "id": "IWYSnH1FgJ06"
      }
    },
    {
      "cell_type": "markdown",
      "source": [
        "4. What is the purpose of the `return` statement in a Python function?\n",
        "\n",
        "The return statement in a Python function is used to send a result back to the caller once the function has completed its task. It ends the function execution and optionally passes back an expression or value. This allows the function to produce output that can be stored or used elsewhere in the program. For example, in the function def square(x): return x * x, the return statement sends back the square of the number provided. When called with result = square(4), the value 16 is returned and stored in the variable result. Without a return statement, a function returns None by default. Therefore, return is essential when you want a function to produce and pass back a specific result."
      ],
      "metadata": {
        "id": "vlMVdid2g1V0"
      }
    },
    {
      "cell_type": "markdown",
      "source": [
        "5. What are iterators in Python and how do they differ from iterables?\n",
        "\n",
        "Iterators and iterables are closely related but serve different purposes. An iterable is any Python object that can be looped over (like lists, tuples, strings, or sets). It implements the __iter__() method and returns an iterator. An iterator, on the other hand, is an object that represents a stream of data; it keeps track of the current position during iteration and produces the next value with the __next__() method.\n",
        "\n",
        "For example, consider the list numbers = [1, 2, 3]. This list is an iterable. When you do iter(numbers), it returns an iterator object. You can then use next() on that iterator to manually access each element, such as next(it) which would give 1, then 2, and so on until it raises StopIteration once all items are consumed. In contrast, a for loop works automatically with iterables by creating an iterator behind the scenes. The key difference is that iterables can be looped over, while iterators actually perform the iteration one item at a time."
      ],
      "metadata": {
        "id": "HtPrLa0ciDdV"
      }
    },
    {
      "cell_type": "markdown",
      "source": [
        "6. Explain the concept of generators in Python and how they are defined.\n",
        "\n",
        " Generators are a type of iterable that allow you to iterate over data lazily, meaning they generate values one at a time, only when needed, instead of storing all values in memory. This makes them more memory-efficient when working with large datasets. Generators are defined using the yield keyword instead of return. The yield keyword allows the function to return an intermediate result and pause its state, allowing the function to resume from where it left off when the next value is requested.\n",
        "\n",
        " Ex:def square_numbers(n):\n",
        "    for i in range(n):\n",
        "        yield i * i\n"
      ],
      "metadata": {
        "id": "I1HS9ojci16j"
      }
    },
    {
      "cell_type": "markdown",
      "source": [
        "7. What are the advantages of using generators over regular functions?\n",
        "\n",
        "Generators offer several advantages over regular functions, especially when dealing with large datasets or sequences of data that do not need to be stored in memory all at once. One of the main benefits is that generators are more memory-efficient because they generate values one at a time on-demand, rather than holding the entire sequence in memory. This makes them particularly useful for working with large files, streaming data, or any situation where storing all the data at once would be impractical. Ex:def generate_squares(n):\n",
        "    for i in range(n):\n",
        "        yield i * i\n",
        "\n",
        "gen = generate_squares(1000000)\n"
      ],
      "metadata": {
        "id": "mGcCKcONjRFr"
      }
    },
    {
      "cell_type": "markdown",
      "source": [
        "8. What is a lambda function in Python and when is it typically used?\n",
        "\n",
        "A lambda function in Python is a small, anonymous function defined using the lambda keyword. Unlike regular functions defined with the def keyword, lambda functions are usually single-line expressions, and they can take any number of arguments but only have one expression. The result of the expression is automatically returned.\n",
        "\n",
        "Lambda functions are typically used when you need a simple function for a short period of time, often as an argument to higher-order functions like map(), filter(), or sorted(). They are particularly useful for small tasks that can be expressed in a single line without the need for a full function definition.\n",
        "\n",
        "Ex:data = [(1, 'apple'), (3, 'banana'), (2, 'cherry')]\n",
        "\n",
        "sorted_data = sorted(data, key=lambda x: x[1])\n",
        "print(sorted_data)\n"
      ],
      "metadata": {
        "id": "6JKK6jCQkXsS"
      }
    },
    {
      "cell_type": "markdown",
      "source": [
        "9. Explain the purpose and usage of the `map()` function in Python.\n",
        "\n",
        "The map() function in Python is used to apply a specified function to all the items in an iterable (like a list or tuple) and returns an iterator that yields the results. It allows you to perform an operation on each element of an iterable without using an explicit loop, making the code more concise and readable. The map() function is particularly useful when you need to perform the same operation on each element of an iterable, such as transforming data or performing calculations.\n",
        "\n",
        "Ex:numbers = [1, 2, 3, 4, 5]\n",
        "\n",
        "\n",
        "squared_numbers = map(lambda x: x ** 2, numbers)\n",
        "\n",
        "print(list(squared_numbers))\n"
      ],
      "metadata": {
        "id": "Jsdry6d8k5VJ"
      }
    },
    {
      "cell_type": "markdown",
      "source": [
        "10. What is the difference between `map()`, `reduce()`, and `filter()` functions in Python?\n",
        "\n",
        "1. map():\n",
        "Purpose: The map() function is used to apply a given function to all items in an iterable (like a list or tuple) and return a new iterator with the results.\n",
        "Usage: It transforms each element in the iterable based on the function provided.\n",
        "\n",
        "Ex:numbers = [1, 2, 3, 4]\n",
        "squared = map(lambda x: x ** 2, numbers)\n",
        "print(list(squared))  # Output: [1, 4, 9, 16]\n",
        "\n",
        "2. reduce():\n",
        "Purpose: The reduce() function, which is part of the functools module, is used to cumulatively apply a function to the items in an iterable, reducing the iterable to a single value.\n",
        "Usage: It is used for operations where you want to apply a function cumulatively (e.g., summing numbers, multiplying all elements).\n",
        "\n",
        "Ex:from functools import reduce\n",
        "\n",
        "numbers = [1, 2, 3, 4]\n",
        "product = reduce(lambda x, y: x * y, numbers)\n",
        "print(product)  # Output: 24\n",
        "\n",
        "3. filter():\n",
        "Purpose: The filter() function is used to filter items in an iterable based on a condition defined by a function. It returns only the items for which the function evaluates to True.\n",
        "Usage: It’s typically used to remove elements that do not satisfy a condition.\n",
        "\n",
        "Ex:numbers = [1, 2, 3, 4, 5, 6]\n",
        "even_numbers = filter(lambda x: x % 2 == 0, numbers)\n",
        "print(list(even_numbers))  # Output: [2, 4, 6]\n"
      ],
      "metadata": {
        "id": "U6fXnnjylrSs"
      }
    },
    {
      "cell_type": "markdown",
      "source": [
        "11. Using pen & Paper write the internal mechanism for sum operation using  reduce function on this given\n",
        "list:[47,11,42,13];\n",
        "\n",
        "![WhatsApp Image 2025-04-24 at 12.38.48 PM.jpeg](data:image/jpeg;base64,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)"
      ],
      "metadata": {
        "id": "PUX1IngJm4_D"
      }
    },
    {
      "cell_type": "markdown",
      "source": [
        "#Practical Questions:"
      ],
      "metadata": {
        "id": "_dmfKgUpoQ3u"
      }
    },
    {
      "cell_type": "markdown",
      "source": [
        "1. Write a Python function that takes a list of numbers as input and returns the sum of all even numbers in\n",
        "the list."
      ],
      "metadata": {
        "id": "UuLIFwscoaKi"
      }
    },
    {
      "cell_type": "code",
      "source": [
        "numbers = list(map(int, input(\"Enter numbers separated by commas: \").split(\",\")))\n",
        "print(\"Sum of even numbers:\", sum(num for num in numbers if num % 2 == 0))"
      ],
      "metadata": {
        "colab": {
          "base_uri": "https://localhost:8080/"
        },
        "id": "7NhrT6OOyy_C",
        "outputId": "bc7c074b-963a-4c78-86fa-0958ea536faf"
      },
      "execution_count": null,
      "outputs": [
        {
          "output_type": "stream",
          "name": "stdout",
          "text": [
            "Enter numbers separated by commas: 1,2,3,4,5,6,7,8\n",
            "Sum of even numbers: 20\n"
          ]
        }
      ]
    },
    {
      "cell_type": "markdown",
      "source": [
        "2. Create a Python function that accepts a string and returns the reverse of that string."
      ],
      "metadata": {
        "id": "4CYTPvvx22ql"
      }
    },
    {
      "cell_type": "code",
      "source": [
        "text = input(\"Enter a string: \")\n",
        "reversed_text = text[::-1]\n",
        "print(\"Reversed string:\", reversed_text)\n"
      ],
      "metadata": {
        "colab": {
          "base_uri": "https://localhost:8080/"
        },
        "id": "2PO6r6_h8jJy",
        "outputId": "a75dcee1-1463-4ef0-91de-df3dd5723491"
      },
      "execution_count": null,
      "outputs": [
        {
          "output_type": "stream",
          "name": "stdout",
          "text": [
            "Enter a string: sindhu\n",
            "Reversed string: uhdnis\n"
          ]
        }
      ]
    },
    {
      "cell_type": "markdown",
      "source": [
        "3. Implement a Python function that takes a list of integers and returns a new list containing the squares of\n",
        "each number."
      ],
      "metadata": {
        "id": "KKJLUzYK-hqn"
      }
    },
    {
      "cell_type": "code",
      "source": [
        "numbers=[1,2,3,4,5,6,7]\n",
        "squares=[num**2 for num in numbers]\n",
        "print(\"Squares of numbers:\",squares)"
      ],
      "metadata": {
        "colab": {
          "base_uri": "https://localhost:8080/"
        },
        "id": "szhwruAs-nVk",
        "outputId": "13a5df63-1f01-46a1-e582-79024cd28864"
      },
      "execution_count": null,
      "outputs": [
        {
          "output_type": "stream",
          "name": "stdout",
          "text": [
            "Squares of numbers: [1, 4, 9, 16, 25, 36, 49]\n"
          ]
        }
      ]
    },
    {
      "cell_type": "markdown",
      "source": [
        "4. Write a Python function that checks if a given number is prime or not from 1 to 200."
      ],
      "metadata": {
        "id": "1OurPHrNBScD"
      }
    },
    {
      "cell_type": "code",
      "source": [
        "def is_prime(n):\n",
        "    if n <= 1:\n",
        "        return False\n",
        "    for i in range(2, int(n**0.5) + 1):\n",
        "        if n % i == 0:\n",
        "            return False\n",
        "    return True\n",
        "a=is_prime(3)\n",
        "print(a)"
      ],
      "metadata": {
        "colab": {
          "base_uri": "https://localhost:8080/"
        },
        "id": "h9ROoDdKEZCe",
        "outputId": "032a0308-8d2a-457f-fdfd-6ab0e1d2bfc0"
      },
      "execution_count": null,
      "outputs": [
        {
          "output_type": "stream",
          "name": "stdout",
          "text": [
            "True\n"
          ]
        }
      ]
    },
    {
      "cell_type": "markdown",
      "source": [
        "5. Create an iterator class in Python that generates the Fibonacci sequence up to a specified number of\n",
        "terms."
      ],
      "metadata": {
        "id": "WUS4wxJ_E6Is"
      }
    },
    {
      "cell_type": "code",
      "source": [
        "def fibonacci_sequence(n):\n",
        "    \"\"\"Generates a Fibonacci sequence up to n terms.\"\"\"\n",
        "    a, b = 0, 1\n",
        "    for _ in range(n):\n",
        "        yield a\n",
        "        a, b = b, a + b\n",
        "\n",
        "n = int(input(\"Enter number of Fibonacci terms: \"))\n",
        "fib = fibonacci_sequence(n)\n",
        "\n",
        "print(\"Fibonacci sequence:\")\n",
        "for num in fib:\n",
        "    print(num, end=\" \")"
      ],
      "metadata": {
        "colab": {
          "base_uri": "https://localhost:8080/"
        },
        "id": "4aJB2_x5FhFG",
        "outputId": "8eee17eb-95e2-4c77-8cb6-acac10182293"
      },
      "execution_count": null,
      "outputs": [
        {
          "output_type": "stream",
          "name": "stdout",
          "text": [
            "Enter number of Fibonacci terms: 5\n",
            "Fibonacci sequence:\n",
            "0 1 1 2 3 "
          ]
        }
      ]
    },
    {
      "cell_type": "markdown",
      "source": [
        "6. Write a generator function in Python that yields the powers of 2 up to a given exponent.\n",
        "\n"
      ],
      "metadata": {
        "id": "cSjU3mSyIx7T"
      }
    },
    {
      "cell_type": "code",
      "source": [
        "n = int(input(\"Enter the maximum exponent: \"))\n",
        "powers_of_2 = (2 ** i for i in range(n + 1))\n",
        "for power in powers_of_2:\n",
        "    print(power)\n"
      ],
      "metadata": {
        "colab": {
          "base_uri": "https://localhost:8080/"
        },
        "id": "o7ht6IcnJysT",
        "outputId": "4f7448f7-06c0-4b9d-9e02-f40f43dbbfdd"
      },
      "execution_count": null,
      "outputs": [
        {
          "output_type": "stream",
          "name": "stdout",
          "text": [
            "Enter the maximum exponent: 5\n",
            "1\n",
            "2\n",
            "4\n",
            "8\n",
            "16\n",
            "32\n"
          ]
        }
      ]
    },
    {
      "cell_type": "markdown",
      "source": [
        "7. Implement a generator function that reads a file line by line and yields each line as a string."
      ],
      "metadata": {
        "id": "A-_tEkLoLzmY"
      }
    },
    {
      "cell_type": "code",
      "source": [
        "def read_file_line_by_line(file_path):\n",
        "    with open(file_path, 'r') as file:\n",
        "        for line in file:\n",
        "            yield line.rstrip('\\n')"
      ],
      "metadata": {
        "id": "8_6lGDaHL2cP"
      },
      "execution_count": null,
      "outputs": []
    },
    {
      "cell_type": "markdown",
      "source": [
        "8. Use a lambda function in Python to sort a list of tuples based on the second element of each tuple."
      ],
      "metadata": {
        "id": "MlsryQtfQQCE"
      }
    },
    {
      "cell_type": "code",
      "source": [
        "tuple_list = [(1, 3), (4, 1), (2, 2), (5, 0)]\n",
        "sorted_list = sorted(tuple_list, key=lambda x: x[1])\n",
        "print(\"Sorted list:\", sorted_list)"
      ],
      "metadata": {
        "colab": {
          "base_uri": "https://localhost:8080/"
        },
        "id": "Vas6LAkDQi-l",
        "outputId": "8942850c-a228-4c57-a629-75862a3767e7"
      },
      "execution_count": null,
      "outputs": [
        {
          "output_type": "stream",
          "name": "stdout",
          "text": [
            "Sorted list: [(5, 0), (4, 1), (2, 2), (1, 3)]\n"
          ]
        }
      ]
    },
    {
      "cell_type": "markdown",
      "source": [
        "9. Write a Python program that uses `map()` to convert a list of temperatures from Celsius to Fahrenheit."
      ],
      "metadata": {
        "id": "vrY1C3tZQipz"
      }
    },
    {
      "cell_type": "code",
      "source": [
        "celsius = [0, 20, 30, 37, 100]\n",
        "fahrenheit = list(map(lambda c: (c * 9/5) + 32, celsius))\n",
        "print(\"Temperatures in Fahrenheit:\", fahrenheit)\n"
      ],
      "metadata": {
        "colab": {
          "base_uri": "https://localhost:8080/"
        },
        "id": "u0t92fQORn07",
        "outputId": "5966d080-37e2-4a6a-85be-fab0613bbd2c"
      },
      "execution_count": null,
      "outputs": [
        {
          "output_type": "stream",
          "name": "stdout",
          "text": [
            "Temperatures in Fahrenheit: [32.0, 68.0, 86.0, 98.6, 212.0]\n"
          ]
        }
      ]
    },
    {
      "cell_type": "markdown",
      "source": [
        "10. Create a Python program that uses `filter()` to remove all the vowels from a given string."
      ],
      "metadata": {
        "id": "GZxa7w-USn6M"
      }
    },
    {
      "cell_type": "code",
      "source": [
        "def remove_vowels(s):\n",
        "    vowels = 'aeiouAEIOU'\n",
        "    return ''.join(filter(lambda char: char not in vowels, s))\n",
        "\n",
        "# Get input from the user\n",
        "text = input(\"Enter a string: \")\n",
        "\n",
        "# Remove vowels\n",
        "no_vowels = remove_vowels(text)\n",
        "\n",
        "# Display result\n",
        "print(\"String without vowels:\", no_vowels)\n"
      ],
      "metadata": {
        "colab": {
          "base_uri": "https://localhost:8080/"
        },
        "id": "v7OzI52YSrPO",
        "outputId": "cd24164d-8d4f-4a85-860f-98b069fba453"
      },
      "execution_count": null,
      "outputs": [
        {
          "output_type": "stream",
          "name": "stdout",
          "text": [
            "Enter a string: sindhu\n",
            "String without vowels: sndh\n"
          ]
        }
      ]
    },
    {
      "cell_type": "markdown",
      "source": [
        "11) Imagine an accounting routine used in a book shop. It works on a list with sublists, which look like this:\n",
        "\n",
        "\n",
        "\n",
        "\n",
        "\n",
        "\n",
        "\n",
        "Write a Python program, which returns a list with 2-tuples. Each tuple consists of the order number and the\n",
        "product of the price per item and the quantity. The product should be increased by 10,- € if the value of the\n",
        "order is smaller than 100,00 €.\n",
        "\n",
        "Write a Python program using lambda and map."
      ],
      "metadata": {
        "id": "SRPdrdJDT1BU"
      }
    },
    {
      "cell_type": "code",
      "source": [
        "orders = [\n",
        "    [\"34587\", \"Learning Python\", 40.95, 1],\n",
        "    [\"98762\", \"Programming Python\", 56.80, 1],\n",
        "    [\"77226\", \"Head First Python\", 32.95, 3],\n",
        "    [\"88112\", \"Einführung in Python3\", 24.99, 1]\n",
        "]\n",
        "\n",
        "result = list(map(lambda order: (\n",
        "    order[0],\n",
        "    round(order[2] * order[3] + (10 if order[2] * order[3] < 100 else 0), 2)\n",
        "), orders))\n",
        "\n",
        "print(result)\n"
      ],
      "metadata": {
        "id": "VlFUhb62V8xS",
        "outputId": "2e4df43d-0af7-45a0-bff1-b750f0525919",
        "colab": {
          "base_uri": "https://localhost:8080/"
        }
      },
      "execution_count": null,
      "outputs": [
        {
          "output_type": "stream",
          "name": "stdout",
          "text": [
            "[('34587', 50.95), ('98762', 66.8), ('77226', 108.85), ('88112', 34.99)]\n"
          ]
        }
      ]
    }
  ]
}